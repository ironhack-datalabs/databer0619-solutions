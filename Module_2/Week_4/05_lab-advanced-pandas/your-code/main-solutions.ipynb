{
 "cells": [
  {
   "cell_type": "markdown",
   "metadata": {},
   "source": [
    "# Before your start:\n",
    "- Read the README.md file\n",
    "- Comment as much as you can and use the resources (README.md file)\n",
    "- Happy learning!"
   ]
  },
  {
   "cell_type": "code",
   "execution_count": 1,
   "metadata": {},
   "outputs": [],
   "source": [
    "# import numpy and pandas\n",
    "\n",
    "import numpy as np\n",
    "import pandas as pd"
   ]
  },
  {
   "cell_type": "markdown",
   "metadata": {},
   "source": [
    "# Challenge 1 - Index Functions\n",
    "\n",
    "In this challenge, we will practice the advanced functions introduced in the lesson. However, before we start, we will load and evaluate our dataset."
   ]
  },
  {
   "cell_type": "code",
   "execution_count": 2,
   "metadata": {},
   "outputs": [],
   "source": [
    "# Run this code:\n",
    "\n",
    "admissions = pd.read_csv('../Admission_Predict.csv')\n",
    "#to remove trailing spaces at the end of the column names\n",
    "admissions.columns = admissions.columns.str.rstrip()"
   ]
  },
  {
   "cell_type": "markdown",
   "metadata": {},
   "source": [
    "Let's evaluate the dataset by looking at the `head` function."
   ]
  },
  {
   "cell_type": "code",
   "execution_count": 3,
   "metadata": {},
   "outputs": [
    {
     "data": {
      "text/html": [
       "<div>\n",
       "<style scoped>\n",
       "    .dataframe tbody tr th:only-of-type {\n",
       "        vertical-align: middle;\n",
       "    }\n",
       "\n",
       "    .dataframe tbody tr th {\n",
       "        vertical-align: top;\n",
       "    }\n",
       "\n",
       "    .dataframe thead th {\n",
       "        text-align: right;\n",
       "    }\n",
       "</style>\n",
       "<table border=\"1\" class=\"dataframe\">\n",
       "  <thead>\n",
       "    <tr style=\"text-align: right;\">\n",
       "      <th></th>\n",
       "      <th>Serial No.</th>\n",
       "      <th>GRE Score</th>\n",
       "      <th>TOEFL Score</th>\n",
       "      <th>University Rating</th>\n",
       "      <th>SOP</th>\n",
       "      <th>LOR</th>\n",
       "      <th>CGPA</th>\n",
       "      <th>Research</th>\n",
       "      <th>Chance of Admit</th>\n",
       "    </tr>\n",
       "  </thead>\n",
       "  <tbody>\n",
       "    <tr>\n",
       "      <th>0</th>\n",
       "      <td>1</td>\n",
       "      <td>337</td>\n",
       "      <td>118</td>\n",
       "      <td>4</td>\n",
       "      <td>4.5</td>\n",
       "      <td>4.5</td>\n",
       "      <td>9.65</td>\n",
       "      <td>1</td>\n",
       "      <td>0.92</td>\n",
       "    </tr>\n",
       "    <tr>\n",
       "      <th>1</th>\n",
       "      <td>2</td>\n",
       "      <td>316</td>\n",
       "      <td>104</td>\n",
       "      <td>3</td>\n",
       "      <td>3.0</td>\n",
       "      <td>3.5</td>\n",
       "      <td>8.00</td>\n",
       "      <td>1</td>\n",
       "      <td>0.72</td>\n",
       "    </tr>\n",
       "    <tr>\n",
       "      <th>2</th>\n",
       "      <td>3</td>\n",
       "      <td>322</td>\n",
       "      <td>110</td>\n",
       "      <td>3</td>\n",
       "      <td>3.5</td>\n",
       "      <td>2.5</td>\n",
       "      <td>8.67</td>\n",
       "      <td>1</td>\n",
       "      <td>0.80</td>\n",
       "    </tr>\n",
       "    <tr>\n",
       "      <th>3</th>\n",
       "      <td>4</td>\n",
       "      <td>314</td>\n",
       "      <td>103</td>\n",
       "      <td>2</td>\n",
       "      <td>2.0</td>\n",
       "      <td>3.0</td>\n",
       "      <td>8.21</td>\n",
       "      <td>0</td>\n",
       "      <td>0.65</td>\n",
       "    </tr>\n",
       "    <tr>\n",
       "      <th>4</th>\n",
       "      <td>5</td>\n",
       "      <td>330</td>\n",
       "      <td>115</td>\n",
       "      <td>5</td>\n",
       "      <td>4.5</td>\n",
       "      <td>3.0</td>\n",
       "      <td>9.34</td>\n",
       "      <td>1</td>\n",
       "      <td>0.90</td>\n",
       "    </tr>\n",
       "  </tbody>\n",
       "</table>\n",
       "</div>"
      ],
      "text/plain": [
       "   Serial No.  GRE Score  TOEFL Score  University Rating  SOP  LOR  CGPA  \\\n",
       "0           1        337          118                  4  4.5  4.5  9.65   \n",
       "1           2        316          104                  3  3.0  3.5  8.00   \n",
       "2           3        322          110                  3  3.5  2.5  8.67   \n",
       "3           4        314          103                  2  2.0  3.0  8.21   \n",
       "4           5        330          115                  5  4.5  3.0  9.34   \n",
       "\n",
       "   Research  Chance of Admit  \n",
       "0         1             0.92  \n",
       "1         1             0.72  \n",
       "2         1             0.80  \n",
       "3         0             0.65  \n",
       "4         1             0.90  "
      ]
     },
     "execution_count": 3,
     "metadata": {},
     "output_type": "execute_result"
    }
   ],
   "source": [
    "# Your code here:\n",
    "\n",
    "admissions.head()"
   ]
  },
  {
   "cell_type": "markdown",
   "metadata": {},
   "source": [
    "Before beginning to work with this dataset and evaluating graduate admissions data, we will verify that there is no missing data in the dataset. Do this in the cell below."
   ]
  },
  {
   "cell_type": "code",
   "execution_count": 4,
   "metadata": {},
   "outputs": [
    {
     "data": {
      "text/plain": [
       "Serial No.           0\n",
       "GRE Score            0\n",
       "TOEFL Score          0\n",
       "University Rating    0\n",
       "SOP                  0\n",
       "LOR                  0\n",
       "CGPA                 0\n",
       "Research             0\n",
       "Chance of Admit      0\n",
       "dtype: int64"
      ]
     },
     "execution_count": 4,
     "metadata": {},
     "output_type": "execute_result"
    }
   ],
   "source": [
    "# Your code here:\n",
    "\n",
    "admissions.isna().sum()"
   ]
  },
  {
   "cell_type": "markdown",
   "metadata": {},
   "source": [
    "Interestingly, there is a column that uniquely identifies the applicants. This column is the serial number column. Instead of having our own index, we should make this column our index. Do this in the cell below. Keep the column in the dataframe in addition to making it an index."
   ]
  },
  {
   "cell_type": "code",
   "execution_count": 5,
   "metadata": {},
   "outputs": [],
   "source": [
    "# Your code here:\n",
    "\n",
    "admissions.index = admissions['Serial No.']"
   ]
  },
  {
   "cell_type": "markdown",
   "metadata": {},
   "source": [
    "Turns out that `GRE Score` and `CGPA` also uniquely identify the data. Show this in the cell below."
   ]
  },
  {
   "cell_type": "code",
   "execution_count": 6,
   "metadata": {
    "scrolled": true
   },
   "outputs": [
    {
     "data": {
      "text/plain": [
       "array([337, 316, 322, 314, 330, 321, 308, 302, 323, 327, 328, 307, 311,\n",
       "       317, 319, 318, 303, 325, 334, 336, 298, 295, 310, 300, 338, 340,\n",
       "       331, 320, 299, 304, 313, 332, 326, 329, 339, 312, 324, 309, 315,\n",
       "       301, 296, 294, 306, 305, 290, 335, 333, 297, 293])"
      ]
     },
     "execution_count": 6,
     "metadata": {},
     "output_type": "execute_result"
    }
   ],
   "source": [
    "admissions['GRE Score'].unique()"
   ]
  },
  {
   "cell_type": "code",
   "execution_count": 7,
   "metadata": {},
   "outputs": [
    {
     "data": {
      "text/plain": [
       "array([9.65, 8.  , 8.67, 8.21, 9.34, 8.2 , 7.9 , 8.6 , 9.  , 9.1 , 8.3 ,\n",
       "       8.7 , 8.8 , 8.5 , 8.4 , 9.5 , 9.7 , 9.8 , 7.5 , 7.2 , 7.3 , 8.1 ,\n",
       "       9.4 , 9.6 , 9.2 , 7.8 , 7.7 , 9.3 , 8.85, 7.4 , 7.6 , 6.8 , 8.92,\n",
       "       9.02, 8.64, 9.22, 9.16, 9.64, 9.76, 9.45, 9.04, 8.9 , 8.56, 8.72,\n",
       "       8.22, 7.54, 7.36, 8.02, 9.36, 8.66, 8.42, 8.28, 8.14, 7.92, 7.66,\n",
       "       8.03, 7.88, 7.84, 8.96, 9.24, 8.88, 8.46, 8.12, 8.25, 8.47, 9.05,\n",
       "       8.78, 9.18, 9.46, 9.38, 8.48, 8.68, 8.34, 8.45, 8.62, 7.46, 7.28,\n",
       "       8.84, 9.56, 9.48, 8.36, 9.32, 8.71, 9.35, 8.65, 9.28, 8.77, 8.16,\n",
       "       9.08, 9.12, 9.15, 9.44, 9.92, 9.11, 8.26, 9.43, 9.06, 8.75, 8.89,\n",
       "       8.69, 7.86, 9.01, 8.97, 8.33, 8.27, 7.98, 8.04, 9.07, 9.13, 9.23,\n",
       "       8.87, 8.98, 8.94, 9.53, 8.76, 8.52, 8.54, 9.91, 9.87, 7.65, 7.89,\n",
       "       9.14, 9.66, 9.78, 9.42, 9.26, 8.23, 8.07, 9.31, 9.17, 9.19, 8.37,\n",
       "       7.68, 8.15, 8.73, 8.83, 8.57, 9.68, 8.09, 8.79, 8.17, 7.64, 8.01,\n",
       "       7.95, 8.49, 7.87, 7.97, 8.18, 8.32, 8.55, 8.43, 8.53, 8.74, 8.44,\n",
       "       9.47, 8.24, 8.13, 7.34, 7.43, 7.25, 8.06, 7.67, 9.54, 9.62, 7.56,\n",
       "       9.74, 9.82, 7.96])"
      ]
     },
     "execution_count": 7,
     "metadata": {},
     "output_type": "execute_result"
    }
   ],
   "source": [
    "admissions['CGPA'].unique()"
   ]
  },
  {
   "cell_type": "code",
   "execution_count": 8,
   "metadata": {
    "scrolled": true
   },
   "outputs": [
    {
     "data": {
      "text/plain": [
       "0"
      ]
     },
     "execution_count": 8,
     "metadata": {},
     "output_type": "execute_result"
    }
   ],
   "source": [
    "# Your code here:\n",
    "\n",
    "sum(admissions[['GRE Score', 'CGPA']].duplicated())"
   ]
  },
  {
   "cell_type": "markdown",
   "metadata": {},
   "source": [
    "Replace the index with an index comprised of two columns - `GRE Score` and `CGPA`. Remove the columns from the dataset as well. Make sure to use `inplace=True`."
   ]
  },
  {
   "cell_type": "code",
   "execution_count": 9,
   "metadata": {},
   "outputs": [],
   "source": [
    "# Your code here:\n",
    "\n",
    "admissions.set_index(['GRE Score', 'CGPA'], inplace=True)"
   ]
  },
  {
   "cell_type": "markdown",
   "metadata": {},
   "source": [
    "Now change the index back to a sequence starting at zero using the `reset_index` function. Make sure to use `inplace=True`."
   ]
  },
  {
   "cell_type": "code",
   "execution_count": 10,
   "metadata": {},
   "outputs": [],
   "source": [
    "# Your code here:\n",
    "\n",
    "admissions.reset_index(inplace=True)"
   ]
  },
  {
   "cell_type": "markdown",
   "metadata": {},
   "source": [
    "# Challenge 2 - Advanced Functions\n",
    "\n",
    "In this part of the lab, we would like to test complex conditions on the entire dataset at once. Let's start by finding the number of rows where the CGPA is higher than 9 and the student has conducted research."
   ]
  },
  {
   "cell_type": "code",
   "execution_count": 11,
   "metadata": {},
   "outputs": [
    {
     "data": {
      "text/plain": [
       "101"
      ]
     },
     "execution_count": 11,
     "metadata": {},
     "output_type": "execute_result"
    }
   ],
   "source": [
    "# Your code here:\n",
    "\n",
    "sum(admissions.eval('CGPA > 9 & Research == 1'))"
   ]
  },
  {
   "cell_type": "markdown",
   "metadata": {},
   "source": [
    "Now return all the rows where the CGPA is greater than 9 and the SOP score is less than 3.5. Find the mean chance of admit for these applicants."
   ]
  },
  {
   "cell_type": "code",
   "execution_count": 12,
   "metadata": {},
   "outputs": [
    {
     "data": {
      "text/plain": [
       "0.8019999999999999"
      ]
     },
     "execution_count": 12,
     "metadata": {},
     "output_type": "execute_result"
    }
   ],
   "source": [
    "# Your code here:\n",
    "\n",
    "np.mean(admissions.query('CGPA > 9 & SOP < 3.5')['Chance of Admit'])"
   ]
  },
  {
   "cell_type": "markdown",
   "metadata": {},
   "source": [
    "We would like to create a deciding factor column for each student. We standardize several columns and then pick the most important factor from a lookup table. If the standardized value is above 0.8, the student will be accepted.\n",
    "\n",
    "We will start by creating a standardized column for `CGPA`, `GRE Score` and `LOR`. We will name these columns `CGPA_std`, `GRE_std`, and `LOR_std` respecively.\n",
    "\n",
    "Recall that standardizing a column is done by subtracting the mean of the column from all observations in the column and then dividing each observation in the column by the column's standard deviation.\n",
    "\n",
    "In the cell below, write a standardization function (a function that takes a column as input and returns a standardized column as output). Make sure to use the `numpy` versions of mean and standard deviation."
   ]
  },
  {
   "cell_type": "code",
   "execution_count": 13,
   "metadata": {},
   "outputs": [],
   "source": [
    "def standardize(col):\n",
    "    # This function takes a column from a dataframe and returns a standardized column by subtracting the column's mean\n",
    "    # and dividing by the column's standard deviation.\n",
    "    \n",
    "    # Your code here:\n",
    "    \n",
    "    return (col - np.mean(col)) / np.std(col)"
   ]
  },
  {
   "cell_type": "markdown",
   "metadata": {},
   "source": [
    "Now create the standardized columns `CGPA_std`, `GRE_std`, and `LOR_std` and add them to the `admissions` dataframe."
   ]
  },
  {
   "cell_type": "code",
   "execution_count": 14,
   "metadata": {},
   "outputs": [],
   "source": [
    "# Your code here:\n",
    "\n",
    "admissions['CGPA_std'] = standardize(admissions.CGPA)\n",
    "admissions['GRE_std'] = standardize(admissions['GRE Score'])\n",
    "admissions['LOR_std'] = standardize(admissions.LOR)\n",
    "\n",
    "# You could also use the assign function and do all 3 at once."
   ]
  },
  {
   "cell_type": "markdown",
   "metadata": {},
   "source": [
    "We will generate the decision choice at random using the code below. Please run the cell."
   ]
  },
  {
   "cell_type": "code",
   "execution_count": 15,
   "metadata": {},
   "outputs": [],
   "source": [
    "# Run this code:\n",
    "\n",
    "from random import choices\n",
    "std_columns = ['CGPA_std', 'GRE_std', 'LOR_std']\n",
    "\n",
    "decision_choice = choices(std_columns, k=admissions.shape[0])"
   ]
  },
  {
   "cell_type": "markdown",
   "metadata": {},
   "source": [
    "Now create the deciding column using the `lookup` function. The lookup column is `decision_choice` found above. Call the column resulting from the lookup function `deciding_column` and add it to the `admissions` dataframe."
   ]
  },
  {
   "cell_type": "code",
   "execution_count": 16,
   "metadata": {},
   "outputs": [
    {
     "data": {
      "text/plain": [
       "['CGPA_std',\n",
       " 'CGPA_std',\n",
       " 'LOR_std',\n",
       " 'CGPA_std',\n",
       " 'CGPA_std',\n",
       " 'GRE_std',\n",
       " 'GRE_std',\n",
       " 'LOR_std',\n",
       " 'CGPA_std',\n",
       " 'LOR_std',\n",
       " 'LOR_std',\n",
       " 'CGPA_std',\n",
       " 'LOR_std',\n",
       " 'LOR_std',\n",
       " 'GRE_std',\n",
       " 'CGPA_std',\n",
       " 'LOR_std',\n",
       " 'CGPA_std',\n",
       " 'LOR_std',\n",
       " 'CGPA_std',\n",
       " 'GRE_std',\n",
       " 'CGPA_std',\n",
       " 'CGPA_std',\n",
       " 'LOR_std',\n",
       " 'GRE_std',\n",
       " 'CGPA_std',\n",
       " 'GRE_std',\n",
       " 'CGPA_std',\n",
       " 'GRE_std',\n",
       " 'LOR_std',\n",
       " 'LOR_std',\n",
       " 'GRE_std',\n",
       " 'CGPA_std',\n",
       " 'LOR_std',\n",
       " 'LOR_std',\n",
       " 'LOR_std',\n",
       " 'GRE_std',\n",
       " 'LOR_std',\n",
       " 'LOR_std',\n",
       " 'GRE_std',\n",
       " 'GRE_std',\n",
       " 'CGPA_std',\n",
       " 'LOR_std',\n",
       " 'CGPA_std',\n",
       " 'CGPA_std',\n",
       " 'LOR_std',\n",
       " 'GRE_std',\n",
       " 'CGPA_std',\n",
       " 'GRE_std',\n",
       " 'LOR_std',\n",
       " 'GRE_std',\n",
       " 'CGPA_std',\n",
       " 'GRE_std',\n",
       " 'LOR_std',\n",
       " 'LOR_std',\n",
       " 'GRE_std',\n",
       " 'CGPA_std',\n",
       " 'CGPA_std',\n",
       " 'LOR_std',\n",
       " 'LOR_std',\n",
       " 'LOR_std',\n",
       " 'CGPA_std',\n",
       " 'LOR_std',\n",
       " 'LOR_std',\n",
       " 'LOR_std',\n",
       " 'CGPA_std',\n",
       " 'GRE_std',\n",
       " 'GRE_std',\n",
       " 'GRE_std',\n",
       " 'GRE_std',\n",
       " 'CGPA_std',\n",
       " 'LOR_std',\n",
       " 'GRE_std',\n",
       " 'CGPA_std',\n",
       " 'CGPA_std',\n",
       " 'GRE_std',\n",
       " 'LOR_std',\n",
       " 'LOR_std',\n",
       " 'GRE_std',\n",
       " 'CGPA_std',\n",
       " 'GRE_std',\n",
       " 'LOR_std',\n",
       " 'LOR_std',\n",
       " 'LOR_std',\n",
       " 'GRE_std',\n",
       " 'GRE_std',\n",
       " 'GRE_std',\n",
       " 'GRE_std',\n",
       " 'GRE_std',\n",
       " 'GRE_std',\n",
       " 'GRE_std',\n",
       " 'CGPA_std',\n",
       " 'GRE_std',\n",
       " 'GRE_std',\n",
       " 'CGPA_std',\n",
       " 'CGPA_std',\n",
       " 'LOR_std',\n",
       " 'GRE_std',\n",
       " 'GRE_std',\n",
       " 'CGPA_std',\n",
       " 'GRE_std',\n",
       " 'LOR_std',\n",
       " 'LOR_std',\n",
       " 'CGPA_std',\n",
       " 'LOR_std',\n",
       " 'GRE_std',\n",
       " 'LOR_std',\n",
       " 'GRE_std',\n",
       " 'LOR_std',\n",
       " 'CGPA_std',\n",
       " 'CGPA_std',\n",
       " 'CGPA_std',\n",
       " 'CGPA_std',\n",
       " 'LOR_std',\n",
       " 'LOR_std',\n",
       " 'GRE_std',\n",
       " 'GRE_std',\n",
       " 'LOR_std',\n",
       " 'LOR_std',\n",
       " 'CGPA_std',\n",
       " 'GRE_std',\n",
       " 'LOR_std',\n",
       " 'CGPA_std',\n",
       " 'CGPA_std',\n",
       " 'GRE_std',\n",
       " 'LOR_std',\n",
       " 'CGPA_std',\n",
       " 'CGPA_std',\n",
       " 'LOR_std',\n",
       " 'GRE_std',\n",
       " 'CGPA_std',\n",
       " 'CGPA_std',\n",
       " 'GRE_std',\n",
       " 'GRE_std',\n",
       " 'CGPA_std',\n",
       " 'LOR_std',\n",
       " 'LOR_std',\n",
       " 'LOR_std',\n",
       " 'CGPA_std',\n",
       " 'LOR_std',\n",
       " 'GRE_std',\n",
       " 'LOR_std',\n",
       " 'CGPA_std',\n",
       " 'GRE_std',\n",
       " 'CGPA_std',\n",
       " 'CGPA_std',\n",
       " 'LOR_std',\n",
       " 'LOR_std',\n",
       " 'GRE_std',\n",
       " 'GRE_std',\n",
       " 'CGPA_std',\n",
       " 'LOR_std',\n",
       " 'GRE_std',\n",
       " 'CGPA_std',\n",
       " 'GRE_std',\n",
       " 'LOR_std',\n",
       " 'LOR_std',\n",
       " 'CGPA_std',\n",
       " 'LOR_std',\n",
       " 'GRE_std',\n",
       " 'LOR_std',\n",
       " 'LOR_std',\n",
       " 'CGPA_std',\n",
       " 'GRE_std',\n",
       " 'LOR_std',\n",
       " 'LOR_std',\n",
       " 'CGPA_std',\n",
       " 'GRE_std',\n",
       " 'LOR_std',\n",
       " 'GRE_std',\n",
       " 'LOR_std',\n",
       " 'GRE_std',\n",
       " 'GRE_std',\n",
       " 'LOR_std',\n",
       " 'CGPA_std',\n",
       " 'CGPA_std',\n",
       " 'GRE_std',\n",
       " 'CGPA_std',\n",
       " 'GRE_std',\n",
       " 'CGPA_std',\n",
       " 'CGPA_std',\n",
       " 'GRE_std',\n",
       " 'GRE_std',\n",
       " 'GRE_std',\n",
       " 'CGPA_std',\n",
       " 'CGPA_std',\n",
       " 'GRE_std',\n",
       " 'CGPA_std',\n",
       " 'LOR_std',\n",
       " 'LOR_std',\n",
       " 'LOR_std',\n",
       " 'CGPA_std',\n",
       " 'LOR_std',\n",
       " 'GRE_std',\n",
       " 'GRE_std',\n",
       " 'GRE_std',\n",
       " 'LOR_std',\n",
       " 'GRE_std',\n",
       " 'GRE_std',\n",
       " 'CGPA_std',\n",
       " 'GRE_std',\n",
       " 'LOR_std',\n",
       " 'LOR_std',\n",
       " 'LOR_std',\n",
       " 'CGPA_std',\n",
       " 'CGPA_std',\n",
       " 'LOR_std',\n",
       " 'GRE_std',\n",
       " 'CGPA_std',\n",
       " 'CGPA_std',\n",
       " 'LOR_std',\n",
       " 'LOR_std',\n",
       " 'CGPA_std',\n",
       " 'GRE_std',\n",
       " 'LOR_std',\n",
       " 'GRE_std',\n",
       " 'GRE_std',\n",
       " 'CGPA_std',\n",
       " 'LOR_std',\n",
       " 'CGPA_std',\n",
       " 'GRE_std',\n",
       " 'CGPA_std',\n",
       " 'GRE_std',\n",
       " 'LOR_std',\n",
       " 'LOR_std',\n",
       " 'CGPA_std',\n",
       " 'LOR_std',\n",
       " 'GRE_std',\n",
       " 'LOR_std',\n",
       " 'GRE_std',\n",
       " 'LOR_std',\n",
       " 'CGPA_std',\n",
       " 'GRE_std',\n",
       " 'CGPA_std',\n",
       " 'CGPA_std',\n",
       " 'CGPA_std',\n",
       " 'CGPA_std',\n",
       " 'LOR_std',\n",
       " 'LOR_std',\n",
       " 'CGPA_std',\n",
       " 'LOR_std',\n",
       " 'GRE_std',\n",
       " 'CGPA_std',\n",
       " 'GRE_std',\n",
       " 'LOR_std',\n",
       " 'LOR_std',\n",
       " 'LOR_std',\n",
       " 'LOR_std',\n",
       " 'CGPA_std',\n",
       " 'CGPA_std',\n",
       " 'GRE_std',\n",
       " 'GRE_std',\n",
       " 'CGPA_std',\n",
       " 'LOR_std',\n",
       " 'CGPA_std',\n",
       " 'CGPA_std',\n",
       " 'LOR_std',\n",
       " 'LOR_std',\n",
       " 'LOR_std',\n",
       " 'GRE_std',\n",
       " 'CGPA_std',\n",
       " 'LOR_std',\n",
       " 'LOR_std',\n",
       " 'CGPA_std',\n",
       " 'LOR_std',\n",
       " 'LOR_std',\n",
       " 'LOR_std',\n",
       " 'CGPA_std',\n",
       " 'LOR_std',\n",
       " 'LOR_std',\n",
       " 'GRE_std',\n",
       " 'LOR_std',\n",
       " 'LOR_std',\n",
       " 'CGPA_std',\n",
       " 'GRE_std',\n",
       " 'LOR_std',\n",
       " 'GRE_std',\n",
       " 'CGPA_std',\n",
       " 'LOR_std',\n",
       " 'GRE_std',\n",
       " 'LOR_std',\n",
       " 'GRE_std',\n",
       " 'CGPA_std',\n",
       " 'LOR_std',\n",
       " 'LOR_std',\n",
       " 'CGPA_std',\n",
       " 'GRE_std',\n",
       " 'GRE_std',\n",
       " 'CGPA_std',\n",
       " 'CGPA_std',\n",
       " 'LOR_std',\n",
       " 'LOR_std',\n",
       " 'GRE_std',\n",
       " 'CGPA_std',\n",
       " 'CGPA_std',\n",
       " 'CGPA_std',\n",
       " 'CGPA_std',\n",
       " 'CGPA_std',\n",
       " 'CGPA_std',\n",
       " 'CGPA_std',\n",
       " 'CGPA_std',\n",
       " 'CGPA_std',\n",
       " 'CGPA_std',\n",
       " 'GRE_std',\n",
       " 'LOR_std',\n",
       " 'LOR_std',\n",
       " 'CGPA_std',\n",
       " 'GRE_std',\n",
       " 'CGPA_std',\n",
       " 'GRE_std',\n",
       " 'GRE_std',\n",
       " 'LOR_std',\n",
       " 'LOR_std',\n",
       " 'GRE_std',\n",
       " 'GRE_std',\n",
       " 'LOR_std',\n",
       " 'GRE_std',\n",
       " 'CGPA_std',\n",
       " 'LOR_std',\n",
       " 'GRE_std',\n",
       " 'GRE_std',\n",
       " 'CGPA_std',\n",
       " 'CGPA_std',\n",
       " 'GRE_std',\n",
       " 'LOR_std',\n",
       " 'CGPA_std',\n",
       " 'LOR_std',\n",
       " 'GRE_std',\n",
       " 'GRE_std',\n",
       " 'CGPA_std',\n",
       " 'CGPA_std',\n",
       " 'LOR_std',\n",
       " 'GRE_std',\n",
       " 'GRE_std',\n",
       " 'LOR_std',\n",
       " 'CGPA_std',\n",
       " 'GRE_std',\n",
       " 'GRE_std',\n",
       " 'LOR_std',\n",
       " 'CGPA_std',\n",
       " 'CGPA_std',\n",
       " 'LOR_std',\n",
       " 'LOR_std',\n",
       " 'LOR_std',\n",
       " 'LOR_std',\n",
       " 'CGPA_std',\n",
       " 'LOR_std',\n",
       " 'GRE_std',\n",
       " 'CGPA_std',\n",
       " 'LOR_std',\n",
       " 'CGPA_std',\n",
       " 'LOR_std',\n",
       " 'LOR_std',\n",
       " 'CGPA_std',\n",
       " 'LOR_std',\n",
       " 'GRE_std',\n",
       " 'GRE_std',\n",
       " 'GRE_std',\n",
       " 'CGPA_std',\n",
       " 'GRE_std',\n",
       " 'CGPA_std',\n",
       " 'CGPA_std',\n",
       " 'GRE_std',\n",
       " 'LOR_std',\n",
       " 'CGPA_std',\n",
       " 'CGPA_std',\n",
       " 'CGPA_std',\n",
       " 'GRE_std',\n",
       " 'LOR_std',\n",
       " 'LOR_std',\n",
       " 'GRE_std',\n",
       " 'GRE_std',\n",
       " 'LOR_std',\n",
       " 'LOR_std',\n",
       " 'LOR_std',\n",
       " 'CGPA_std',\n",
       " 'LOR_std',\n",
       " 'LOR_std',\n",
       " 'GRE_std',\n",
       " 'GRE_std',\n",
       " 'CGPA_std',\n",
       " 'LOR_std',\n",
       " 'GRE_std',\n",
       " 'CGPA_std',\n",
       " 'CGPA_std']"
      ]
     },
     "execution_count": 16,
     "metadata": {},
     "output_type": "execute_result"
    }
   ],
   "source": [
    "decision_choice"
   ]
  },
  {
   "cell_type": "code",
   "execution_count": 17,
   "metadata": {},
   "outputs": [],
   "source": [
    "# Your code here:\n",
    "\n",
    "admissions['deciding_column'] = admissions.lookup(admissions.index, decision_choice)"
   ]
  },
  {
   "cell_type": "markdown",
   "metadata": {},
   "source": [
    "Create a column called `decision` in the `admissions` dataframe. Assign 1 to this column if the value of `deciding_column` is greater than 0.8 and 0 otherwise."
   ]
  },
  {
   "cell_type": "code",
   "execution_count": 18,
   "metadata": {},
   "outputs": [
    {
     "data": {
      "text/plain": [
       "0      1.750174\n",
       "1     -0.992501\n",
       "2     -1.039517\n",
       "3     -0.643433\n",
       "4      1.234884\n",
       "5      0.369672\n",
       "6     -0.756445\n",
       "7     -2.155874\n",
       "8      0.004836\n",
       "9      1.193197\n",
       "10     1.193197\n",
       "11    -0.992501\n",
       "12    -1.597696\n",
       "13    -1.039517\n",
       "14     0.023175\n",
       "15    -0.992501\n",
       "16    -0.481338\n",
       "17    -0.161387\n",
       "18    -1.597696\n",
       "19     1.500840\n",
       "20     1.495789\n",
       "21     1.999508\n",
       "22     0.337281\n",
       "23    -1.039517\n",
       "24    -1.882562\n",
       "25    -2.156060\n",
       "26    -1.449440\n",
       "27    -0.493833\n",
       "28     1.842287\n",
       "29     0.635019\n",
       "         ...   \n",
       "355   -0.583196\n",
       "356    0.629546\n",
       "357    1.669038\n",
       "358   -0.094898\n",
       "359   -0.150074\n",
       "360   -1.557658\n",
       "361   -1.939970\n",
       "362   -2.315684\n",
       "363   -1.039517\n",
       "364   -0.277743\n",
       "365    0.403770\n",
       "366    0.121191\n",
       "367    0.629546\n",
       "368    0.076840\n",
       "369    1.751376\n",
       "370    1.582414\n",
       "371   -1.276191\n",
       "372    0.076840\n",
       "373   -1.597696\n",
       "374    0.635019\n",
       "375   -0.593566\n",
       "376   -0.481338\n",
       "377    0.076840\n",
       "378    0.023175\n",
       "379    1.062667\n",
       "380    0.736216\n",
       "381    0.076840\n",
       "382    1.149292\n",
       "383    0.304036\n",
       "384    1.766796\n",
       "Name: deciding_column, Length: 385, dtype: float64"
      ]
     },
     "execution_count": 18,
     "metadata": {},
     "output_type": "execute_result"
    }
   ],
   "source": [
    "admissions['deciding_column']"
   ]
  },
  {
   "cell_type": "code",
   "execution_count": 19,
   "metadata": {},
   "outputs": [],
   "source": [
    "# Your code here:\n",
    "\n",
    "admissions['decision'] = np.where(admissions.deciding_column > 0.8, 1, 0)"
   ]
  },
  {
   "cell_type": "markdown",
   "metadata": {},
   "source": [
    "How many applicants will be accepted to the program using the decision column? Compute the result below."
   ]
  },
  {
   "cell_type": "code",
   "execution_count": 20,
   "metadata": {},
   "outputs": [
    {
     "data": {
      "text/plain": [
       "0    301\n",
       "1     84\n",
       "Name: decision, dtype: int64"
      ]
     },
     "execution_count": 20,
     "metadata": {},
     "output_type": "execute_result"
    }
   ],
   "source": [
    "# Your code here:\n",
    "\n",
    "admissions.decision.value_counts()"
   ]
  },
  {
   "cell_type": "markdown",
   "metadata": {},
   "source": [
    "# Challenge 3 - Method Chaining\n",
    "\n",
    "To increase our coding efficiency, let's make a number of changes to our dataframe in one line of code.\n",
    "\n",
    "In the cell below, remove all non character symbols from the column names, replace all spaces in column names to underscores, and change all upper case characters to lower case. Assign these new column values to `admissions.columns`."
   ]
  },
  {
   "cell_type": "code",
   "execution_count": 21,
   "metadata": {},
   "outputs": [],
   "source": [
    "# Your code here:\n",
    "\n",
    "admissions.columns = (admissions.columns\n",
    "                            .str.replace(' ', '_')\n",
    "                            .str.replace('.', '')\n",
    "                            .str.lower())"
   ]
  },
  {
   "cell_type": "markdown",
   "metadata": {},
   "source": [
    "In the cell below, give all student with a university rating of 4 or higher a 10 point boost on their GRE score and split the column into 4 bins using the `cut` function. Assign this new score to the variable `adjusted_gre`."
   ]
  },
  {
   "cell_type": "code",
   "execution_count": 22,
   "metadata": {},
   "outputs": [],
   "source": [
    "# Your code here:\n",
    "\n",
    "admissions['adjusted_gre'] = pd.cut(np.where(admissions.university_rating >=4, admissions.gre_score + 10, admissions.gre_score), bins=4)"
   ]
  },
  {
   "cell_type": "code",
   "execution_count": 23,
   "metadata": {},
   "outputs": [
    {
     "data": {
      "text/html": [
       "<div>\n",
       "<style scoped>\n",
       "    .dataframe tbody tr th:only-of-type {\n",
       "        vertical-align: middle;\n",
       "    }\n",
       "\n",
       "    .dataframe tbody tr th {\n",
       "        vertical-align: top;\n",
       "    }\n",
       "\n",
       "    .dataframe thead th {\n",
       "        text-align: right;\n",
       "    }\n",
       "</style>\n",
       "<table border=\"1\" class=\"dataframe\">\n",
       "  <thead>\n",
       "    <tr style=\"text-align: right;\">\n",
       "      <th></th>\n",
       "      <th>gre_score</th>\n",
       "      <th>cgpa</th>\n",
       "      <th>serial_no</th>\n",
       "      <th>toefl_score</th>\n",
       "      <th>university_rating</th>\n",
       "      <th>sop</th>\n",
       "      <th>lor</th>\n",
       "      <th>research</th>\n",
       "      <th>chance_of_admit</th>\n",
       "      <th>cgpa_std</th>\n",
       "      <th>gre_std</th>\n",
       "      <th>lor_std</th>\n",
       "      <th>deciding_column</th>\n",
       "      <th>decision</th>\n",
       "      <th>adjusted_gre</th>\n",
       "    </tr>\n",
       "  </thead>\n",
       "  <tbody>\n",
       "    <tr>\n",
       "      <th>0</th>\n",
       "      <td>337</td>\n",
       "      <td>9.65</td>\n",
       "      <td>1</td>\n",
       "      <td>118</td>\n",
       "      <td>4</td>\n",
       "      <td>4.5</td>\n",
       "      <td>4.5</td>\n",
       "      <td>1</td>\n",
       "      <td>0.92</td>\n",
       "      <td>1.750174</td>\n",
       "      <td>1.755663</td>\n",
       "      <td>1.193197</td>\n",
       "      <td>1.750174</td>\n",
       "      <td>1</td>\n",
       "      <td>(335.0, 350.0]</td>\n",
       "    </tr>\n",
       "    <tr>\n",
       "      <th>1</th>\n",
       "      <td>316</td>\n",
       "      <td>8.00</td>\n",
       "      <td>2</td>\n",
       "      <td>104</td>\n",
       "      <td>3</td>\n",
       "      <td>3.0</td>\n",
       "      <td>3.5</td>\n",
       "      <td>1</td>\n",
       "      <td>0.72</td>\n",
       "      <td>-0.992501</td>\n",
       "      <td>-0.063450</td>\n",
       "      <td>0.076840</td>\n",
       "      <td>-0.992501</td>\n",
       "      <td>0</td>\n",
       "      <td>(305.0, 320.0]</td>\n",
       "    </tr>\n",
       "    <tr>\n",
       "      <th>2</th>\n",
       "      <td>322</td>\n",
       "      <td>8.67</td>\n",
       "      <td>3</td>\n",
       "      <td>110</td>\n",
       "      <td>3</td>\n",
       "      <td>3.5</td>\n",
       "      <td>2.5</td>\n",
       "      <td>1</td>\n",
       "      <td>0.80</td>\n",
       "      <td>0.121191</td>\n",
       "      <td>0.456297</td>\n",
       "      <td>-1.039517</td>\n",
       "      <td>-1.039517</td>\n",
       "      <td>0</td>\n",
       "      <td>(320.0, 335.0]</td>\n",
       "    </tr>\n",
       "    <tr>\n",
       "      <th>3</th>\n",
       "      <td>314</td>\n",
       "      <td>8.21</td>\n",
       "      <td>4</td>\n",
       "      <td>103</td>\n",
       "      <td>2</td>\n",
       "      <td>2.0</td>\n",
       "      <td>3.0</td>\n",
       "      <td>0</td>\n",
       "      <td>0.65</td>\n",
       "      <td>-0.643433</td>\n",
       "      <td>-0.236698</td>\n",
       "      <td>-0.481338</td>\n",
       "      <td>-0.643433</td>\n",
       "      <td>0</td>\n",
       "      <td>(305.0, 320.0]</td>\n",
       "    </tr>\n",
       "    <tr>\n",
       "      <th>4</th>\n",
       "      <td>330</td>\n",
       "      <td>9.34</td>\n",
       "      <td>5</td>\n",
       "      <td>115</td>\n",
       "      <td>5</td>\n",
       "      <td>4.5</td>\n",
       "      <td>3.0</td>\n",
       "      <td>1</td>\n",
       "      <td>0.90</td>\n",
       "      <td>1.234884</td>\n",
       "      <td>1.149292</td>\n",
       "      <td>-0.481338</td>\n",
       "      <td>1.234884</td>\n",
       "      <td>1</td>\n",
       "      <td>(335.0, 350.0]</td>\n",
       "    </tr>\n",
       "  </tbody>\n",
       "</table>\n",
       "</div>"
      ],
      "text/plain": [
       "   gre_score  cgpa  serial_no  toefl_score  university_rating  sop  lor  \\\n",
       "0        337  9.65          1          118                  4  4.5  4.5   \n",
       "1        316  8.00          2          104                  3  3.0  3.5   \n",
       "2        322  8.67          3          110                  3  3.5  2.5   \n",
       "3        314  8.21          4          103                  2  2.0  3.0   \n",
       "4        330  9.34          5          115                  5  4.5  3.0   \n",
       "\n",
       "   research  chance_of_admit  cgpa_std   gre_std   lor_std  deciding_column  \\\n",
       "0         1             0.92  1.750174  1.755663  1.193197         1.750174   \n",
       "1         1             0.72 -0.992501 -0.063450  0.076840        -0.992501   \n",
       "2         1             0.80  0.121191  0.456297 -1.039517        -1.039517   \n",
       "3         0             0.65 -0.643433 -0.236698 -0.481338        -0.643433   \n",
       "4         1             0.90  1.234884  1.149292 -0.481338         1.234884   \n",
       "\n",
       "   decision    adjusted_gre  \n",
       "0         1  (335.0, 350.0]  \n",
       "1         0  (305.0, 320.0]  \n",
       "2         0  (320.0, 335.0]  \n",
       "3         0  (305.0, 320.0]  \n",
       "4         1  (335.0, 350.0]  "
      ]
     },
     "execution_count": 23,
     "metadata": {},
     "output_type": "execute_result"
    }
   ],
   "source": [
    "admissions.head()"
   ]
  },
  {
   "cell_type": "code",
   "execution_count": null,
   "metadata": {},
   "outputs": [],
   "source": []
  }
 ],
 "metadata": {
  "kernelspec": {
   "display_name": "Python 3",
   "language": "python",
   "name": "python3"
  },
  "language_info": {
   "codemirror_mode": {
    "name": "ipython",
    "version": 3
   },
   "file_extension": ".py",
   "mimetype": "text/x-python",
   "name": "python",
   "nbconvert_exporter": "python",
   "pygments_lexer": "ipython3",
   "version": "3.7.1"
  }
 },
 "nbformat": 4,
 "nbformat_minor": 2
}

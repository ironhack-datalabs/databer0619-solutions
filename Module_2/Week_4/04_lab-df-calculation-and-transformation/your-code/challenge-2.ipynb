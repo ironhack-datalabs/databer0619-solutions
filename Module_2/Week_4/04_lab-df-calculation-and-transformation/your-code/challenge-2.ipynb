{
 "cells": [
  {
   "cell_type": "markdown",
   "metadata": {},
   "source": [
    "# Challenge 2\n",
    "\n",
    "In this challenge we will walk you through how to solve a problem in the previous [Subsetting and Descriptive Stats lab](../../lab-subsetting-and-descriptive-stats/your-code/main.ipynb). You'll be exposed to the thinking process how a pro would tackle the problem. Try to understand the thinking process and apply it in the next challenge.\n",
    "\n",
    "## Import all libraries that are necessary"
   ]
  },
  {
   "cell_type": "code",
   "execution_count": 2,
   "metadata": {},
   "outputs": [],
   "source": [
    "import numpy as np\n",
    "import pandas as pd"
   ]
  },
  {
   "cell_type": "markdown",
   "metadata": {},
   "source": [
    "## Import and overview data\n",
    "\n",
    "First import `employee.csv` from the \"subsetting\" lab folder and print head to overview the data:"
   ]
  },
  {
   "cell_type": "code",
   "execution_count": 3,
   "metadata": {},
   "outputs": [
    {
     "data": {
      "text/html": [
       "<div>\n",
       "<style scoped>\n",
       "    .dataframe tbody tr th:only-of-type {\n",
       "        vertical-align: middle;\n",
       "    }\n",
       "\n",
       "    .dataframe tbody tr th {\n",
       "        vertical-align: top;\n",
       "    }\n",
       "\n",
       "    .dataframe thead th {\n",
       "        text-align: right;\n",
       "    }\n",
       "</style>\n",
       "<table border=\"1\" class=\"dataframe\">\n",
       "  <thead>\n",
       "    <tr style=\"text-align: right;\">\n",
       "      <th></th>\n",
       "      <th>Name</th>\n",
       "      <th>Department</th>\n",
       "      <th>Education</th>\n",
       "      <th>Gender</th>\n",
       "      <th>Title</th>\n",
       "      <th>Years</th>\n",
       "      <th>Salary</th>\n",
       "    </tr>\n",
       "  </thead>\n",
       "  <tbody>\n",
       "    <tr>\n",
       "      <th>0</th>\n",
       "      <td>Jose</td>\n",
       "      <td>IT</td>\n",
       "      <td>Bachelor</td>\n",
       "      <td>M</td>\n",
       "      <td>analyst</td>\n",
       "      <td>1</td>\n",
       "      <td>35</td>\n",
       "    </tr>\n",
       "    <tr>\n",
       "      <th>1</th>\n",
       "      <td>Maria</td>\n",
       "      <td>IT</td>\n",
       "      <td>Master</td>\n",
       "      <td>F</td>\n",
       "      <td>analyst</td>\n",
       "      <td>2</td>\n",
       "      <td>30</td>\n",
       "    </tr>\n",
       "    <tr>\n",
       "      <th>2</th>\n",
       "      <td>David</td>\n",
       "      <td>HR</td>\n",
       "      <td>Master</td>\n",
       "      <td>M</td>\n",
       "      <td>analyst</td>\n",
       "      <td>2</td>\n",
       "      <td>30</td>\n",
       "    </tr>\n",
       "    <tr>\n",
       "      <th>3</th>\n",
       "      <td>Sonia</td>\n",
       "      <td>HR</td>\n",
       "      <td>Bachelor</td>\n",
       "      <td>F</td>\n",
       "      <td>analyst</td>\n",
       "      <td>4</td>\n",
       "      <td>35</td>\n",
       "    </tr>\n",
       "    <tr>\n",
       "      <th>4</th>\n",
       "      <td>Samuel</td>\n",
       "      <td>Sales</td>\n",
       "      <td>Master</td>\n",
       "      <td>M</td>\n",
       "      <td>associate</td>\n",
       "      <td>3</td>\n",
       "      <td>55</td>\n",
       "    </tr>\n",
       "  </tbody>\n",
       "</table>\n",
       "</div>"
      ],
      "text/plain": [
       "     Name Department Education Gender      Title  Years  Salary\n",
       "0    Jose         IT  Bachelor      M    analyst      1      35\n",
       "1   Maria         IT    Master      F    analyst      2      30\n",
       "2   David         HR    Master      M    analyst      2      30\n",
       "3   Sonia         HR  Bachelor      F    analyst      4      35\n",
       "4  Samuel      Sales    Master      M  associate      3      55"
      ]
     },
     "execution_count": 3,
     "metadata": {},
     "output_type": "execute_result"
    }
   ],
   "source": [
    "employee = pd.read_csv(\"../../lab-subsetting-and-descriptive-stats/your-code/Employee.csv\")\n",
    "\n",
    "employee.head()"
   ]
  },
  {
   "cell_type": "markdown",
   "metadata": {},
   "source": [
    "Printing the head is not a useless routine. You should really look at the data set and understand what they are. No data analyst can successfully analyze the data without in-dpeth understanding of what each column is about. As we progress in this course, the data sets are becoming increasingly complex which requires you to inspect the data at the beginning then on the needed basis thoughout the problem-solving process.\n",
    "\n",
    "One question in the previous lab is:\n",
    "\n",
    "**Find the minimum, mean, and maximum of all numeric columns for each Department.**\n",
    "\n",
    "We will walk you through how to solve this question using the workflow discussed in the [Data Analysis Iteration video](https://www.youtube.com/watch?v=xOomNicqbkk)."
   ]
  },
  {
   "cell_type": "markdown",
   "metadata": {},
   "source": [
    "## Main Problem - Setting Expectations\n",
    "\n",
    "We want to break down the problem into several sub problems:\n",
    "\n",
    "**Sub Problem 1 - How to extract numeric columns from a data set?**\n",
    "\n",
    "**Sub Problem 2 - How to calculate minimum, mean. and maximum?**\n",
    "\n",
    "**Sub Problem 3 - How to perform calculations for each Department?**\n",
    "\n",
    "If we figure out each of the sub problems above, we have found the solution for our main problem."
   ]
  },
  {
   "cell_type": "markdown",
   "metadata": {},
   "source": [
    "## Main Problem - Collecting Information\n",
    "\n",
    "This step is the problem-solving process of the main problem in which we will solve each of the three sub problems. The successful solution of all sub problems will lead us to the solution of the main problem.\n",
    "\n",
    "### Sub Problem 1\n",
    "\n",
    "#### Setting Expectations\n",
    "\n",
    "**Define problem: How to extract numeric columns from a data set?**\n",
    "\n",
    "#### Collecting Information\n",
    "\n",
    "This was already covered in the lesson by using `dtypes`. So let's print out all numeric columns:"
   ]
  },
  {
   "cell_type": "code",
   "execution_count": null,
   "metadata": {},
   "outputs": [],
   "source": [
    "# enter your code here\n"
   ]
  },
  {
   "cell_type": "markdown",
   "metadata": {},
   "source": [
    "You should have seen:\n",
    "    \n",
    "```\n",
    "Name          object\n",
    "Department    object\n",
    "Education     object\n",
    "Gender        object\n",
    "Title         object\n",
    "Years          int64\n",
    "Salary         int64\n",
    "dtype: object\n",
    "```\n",
    "\n",
    "#### Reacting to Data\n",
    "\n",
    "You found `Years` and `Salary` are the numeric columns we need to extract. So we can potentially use `employee[[\"Years\", \"Salary\"]]` to extract these columns:"
   ]
  },
  {
   "cell_type": "code",
   "execution_count": null,
   "metadata": {},
   "outputs": [],
   "source": [
    "employee[[\"Years\", \"Salary\"]]"
   ]
  },
  {
   "cell_type": "markdown",
   "metadata": {},
   "source": [
    "But instead of hardcoding the column names in the solution, a better approach is to define a Python function that dynamically returns all numeric columns. You will be able to re-use this function in your future works. Also, if the data set is huge and it contains hundreds of numeric columns, it is impossible to manually select them.\n",
    "\n",
    "#### Revising Expectations\n",
    "\n",
    "**Define new problem: How to *dynamically* extract numeric columns from a data set?**\n",
    "\n",
    "#### Collecting Information\n",
    "\n",
    "This was not covered in the lesson. So we need to [google the answer](https://www.google.com/search?q=pandas+dataframe+get+all+numeric+columns).\n",
    "\n",
    "After finding the answer, write the function below."
   ]
  },
  {
   "cell_type": "code",
   "execution_count": 37,
   "metadata": {},
   "outputs": [],
   "source": [
    "def get_numeric_cols(df):\n",
    "    # write your code below. Return all numeric columns of the dataframe\n",
    "    return"
   ]
  },
  {
   "cell_type": "markdown",
   "metadata": {},
   "source": [
    "#### Reacting to Data\n",
    "\n",
    "Now test your function:"
   ]
  },
  {
   "cell_type": "code",
   "execution_count": null,
   "metadata": {},
   "outputs": [],
   "source": [
    "get_numeric_cols(employee)"
   ]
  },
  {
   "cell_type": "markdown",
   "metadata": {},
   "source": [
    "You should have seen:\n",
    "\n",
    "```\n",
    "   Years  Salary\n",
    "0      1      35\n",
    "1      2      30\n",
    "2      2      30\n",
    "3      4      35\n",
    "4      3      55\n",
    "5      2      55\n",
    "6      8      70\n",
    "7      7      60\n",
    "8      8      70\n",
    "```\n",
    "\n"
   ]
  },
  {
   "cell_type": "markdown",
   "metadata": {},
   "source": [
    "Yes, this is exactly what we want!\n",
    "\n",
    "Now we move to the next sub problem.\n",
    "\n",
    "### Sub Problem 2\n",
    "\n",
    "#### Setting Expectations\n",
    "\n",
    "**Define problem: How to calculate minimum, mean. and maximum?**\n",
    "\n",
    "#### Collecting Information\n",
    "\n",
    "That's easy. Review the *Descriptive Statistics With Pandas* lesson and we find there are functions already made for Pandas dataframes to calculate minimum, mean, and maximum. We'll leverage from the solution we found in sub problem 1 and try to calculate on the numeric columns:"
   ]
  },
  {
   "cell_type": "code",
   "execution_count": null,
   "metadata": {},
   "outputs": [],
   "source": [
    "numeric_cols = get_numeric_cols(employee)\n",
    "\n",
    "print('PRINTING MIN:')\n",
    "\n",
    "# enter your code here\n",
    "\n",
    "\n",
    "print('\\n---\\n')\n",
    "print('PRINTING MEAN:')\n",
    "\n",
    "# enter your code here\n",
    "\n",
    "\n",
    "print('\\n---\\n')\n",
    "print('PRINTING MAX:')\n",
    "\n",
    "# enter your code here\n"
   ]
  },
  {
   "cell_type": "markdown",
   "metadata": {},
   "source": [
    "If everything is expected in the output we move to the next sub problem.\n",
    "\n",
    "### Sub Problem 3\n",
    "\n",
    "#### Setting Expectations\n",
    "\n",
    "**Define problem: How to perform calculations for each Department?**\n",
    "\n",
    "#### Collecting Information\n",
    "\n",
    "What we need to do is first group data by Department, then perform calculation on each grouped data. This is covered in the *Data Aggregations and Summarization* lesson. Assign the grouped data to a new variable called `employee_by_department`. "
   ]
  },
  {
   "cell_type": "code",
   "execution_count": 40,
   "metadata": {},
   "outputs": [],
   "source": [
    "# enter your code here\n"
   ]
  },
  {
   "cell_type": "markdown",
   "metadata": {},
   "source": [
    "#### Reacting to Data\n",
    "\n",
    "Print out the grouped data and try to calculate mean for the grouped data. Check if you obtain the desired results."
   ]
  },
  {
   "cell_type": "code",
   "execution_count": null,
   "metadata": {},
   "outputs": [],
   "source": [
    "print(employee_by_department)\n",
    "\n",
    "print(employee_by_department.mean())"
   ]
  },
  {
   "cell_type": "markdown",
   "metadata": {},
   "source": [
    "From the outputs above, you probably noticed Pandas automatically ignores non-numeric columns when you call the `mean()` method. This means we may not need the solution for sub problem 1. That's ok, let's move on.\n",
    "\n",
    "Assuming everying is fine, now we are ready to combine the solutions of all sub problems in order to solve the main problem.\n",
    "\n",
    "## Main Problem - Reacting to Data / Revising Expectations\n",
    "\n",
    "It turns out Pandas is smart enough to perform calculations on numeric columns only even if the data set contains non-numeric fields. We can choose to revise our solution because it is no longer necessary to obtain the numeric columns (Sub Problem 1) by ourselves. In this case we simply combine solutions for Sub Problem 2 & 3. Write your codes below:"
   ]
  },
  {
   "cell_type": "code",
   "execution_count": null,
   "metadata": {},
   "outputs": [],
   "source": [
    "print('PRINTING DEPARTMENT MIN:')\n",
    "# enter your codes here to print department MIN\n",
    "\n",
    "\n",
    "print('\\n---\\n')\n",
    "print('PRINTING DEPARTMENT MEAN:')\n",
    "# enter your codes here to print department MEAN\n",
    "\n",
    "\n",
    "print('\\n---\\n')\n",
    "print('PRINTING DEPARTMENT MAX:')\n",
    "# enter your codes here to print department MAX\n"
   ]
  },
  {
   "cell_type": "markdown",
   "metadata": {},
   "source": [
    "Alternatively, we can choose to stick to our original solution that combines all 3 sub problems. We want to do this because we will have more control over what we want to do with the data. What if the goal is more complex than performing MIN, MEAN, and MAX? What if we need to apply a custom function which cannot automatically select numeric columns? It is good we can figure out how to do this.\n",
    "\n",
    "Write your code below that uses one line of code to calate MIN, then MEAN, then MAX.\n",
    "\n",
    "*Hint: use `apply` and `lambda`*"
   ]
  },
  {
   "cell_type": "code",
   "execution_count": 43,
   "metadata": {},
   "outputs": [],
   "source": [
    "print('PRINTING DEPARTMENT MIN:')\n",
    "# enter your codes here to print department MIN\n",
    "\n",
    "\n",
    "print('\\n---\\n')\n",
    "print('PRINTING DEPARTMENT MEAN:')\n",
    "# enter your codes here to print department MEAN\n",
    "\n",
    "\n",
    "print('\\n---\\n')\n",
    "print('PRINTING DEPARTMENT MAX:')\n",
    "# enter your codes here to print department MAX\n"
   ]
  },
  {
   "cell_type": "markdown",
   "metadata": {},
   "source": [
    "Test your codes. You should have seen outputs similar to the following:\n",
    "\n",
    "```\n",
    "PRINTING DEPARTMENT MIN:\n",
    "\n",
    "Years      1\n",
    "Salary    30\n",
    "dtype: int64\n",
    "\n",
    "---\n",
    "\n",
    "PRINTING DEPARTMENT MEAN:\n",
    "\n",
    "Years      4.111111\n",
    "Salary    48.888889\n",
    "dtype: float64\n",
    "\n",
    "---\n",
    "\n",
    "PRINTING DEPARTMENT MAX:\n",
    "\n",
    "Years      8\n",
    "Salary    70\n",
    "dtype: int64\n",
    "```"
   ]
  },
  {
   "cell_type": "markdown",
   "metadata": {},
   "source": [
    "If you don't see the correct output, check your codes and revise."
   ]
  }
 ],
 "metadata": {
  "kernelspec": {
   "display_name": "Python 3",
   "language": "python",
   "name": "python3"
  },
  "language_info": {
   "codemirror_mode": {
    "name": "ipython",
    "version": 3
   },
   "file_extension": ".py",
   "mimetype": "text/x-python",
   "name": "python",
   "nbconvert_exporter": "python",
   "pygments_lexer": "ipython3",
   "version": "3.6.6"
  }
 },
 "nbformat": 4,
 "nbformat_minor": 2
}

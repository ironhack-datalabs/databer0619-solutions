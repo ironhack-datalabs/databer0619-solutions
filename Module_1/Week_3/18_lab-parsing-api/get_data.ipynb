{
 "cells": [
  {
   "cell_type": "code",
   "execution_count": 1,
   "metadata": {},
   "outputs": [
    {
     "name": "stdout",
     "output_type": "stream",
     "text": [
      "Get Data from coinmarketcap\n",
      "Use: python3 get_data.py coin_list.lis\n",
      "The file \"-f\" is missing\n"
     ]
    },
    {
     "ename": "NameError",
     "evalue": "name 'file_data' is not defined",
     "output_type": "error",
     "traceback": [
      "\u001b[0;31m---------------------------------------------------------------------------\u001b[0m",
      "\u001b[0;31mNameError\u001b[0m                                 Traceback (most recent call last)",
      "\u001b[0;32m<ipython-input-1-80fcce1e2c2b>\u001b[0m in \u001b[0;36m<module>\u001b[0;34m\u001b[0m\n\u001b[1;32m     23\u001b[0m \u001b[0mmy_list_of_coins\u001b[0m \u001b[0;34m=\u001b[0m \u001b[0;34m[\u001b[0m\u001b[0;34m]\u001b[0m\u001b[0;34m\u001b[0m\u001b[0;34m\u001b[0m\u001b[0m\n\u001b[1;32m     24\u001b[0m \u001b[0;34m\u001b[0m\u001b[0m\n\u001b[0;32m---> 25\u001b[0;31m \u001b[0;32mfor\u001b[0m \u001b[0mrow\u001b[0m \u001b[0;32min\u001b[0m \u001b[0mfile_data\u001b[0m\u001b[0;34m:\u001b[0m\u001b[0;34m\u001b[0m\u001b[0;34m\u001b[0m\u001b[0m\n\u001b[0m\u001b[1;32m     26\u001b[0m     \u001b[0mmy_list_of_coins\u001b[0m\u001b[0;34m.\u001b[0m\u001b[0mappend\u001b[0m\u001b[0;34m(\u001b[0m\u001b[0mrow\u001b[0m\u001b[0;34m.\u001b[0m\u001b[0mstrip\u001b[0m\u001b[0;34m(\u001b[0m\u001b[0;34m)\u001b[0m\u001b[0;34m)\u001b[0m\u001b[0;34m\u001b[0m\u001b[0;34m\u001b[0m\u001b[0m\n\u001b[1;32m     27\u001b[0m \u001b[0;34m\u001b[0m\u001b[0m\n",
      "\u001b[0;31mNameError\u001b[0m: name 'file_data' is not defined"
     ]
    }
   ],
   "source": [
    "import json \n",
    "import requests \n",
    "import sys\n",
    "import time\n",
    "\n",
    "\n",
    "if(len(sys.argv) != 2): \n",
    "    print(\"Get Data from coinmarketcap\")\n",
    "    print(\"Use: python3 get_data.py coin_list.lis\")\n",
    "    quit()\n",
    "\n",
    "\n",
    "try:\n",
    "    file_data = open(sys.argv[1],\"r\")    \n",
    "except FileNotFoundError:\n",
    "    print(\"The file \\\"%s\\\" is missing\" % sys.argv[1])\n",
    "    quit()\n",
    "    \n",
    "\n",
    "\n",
    "#It gets the list of coins\n",
    "\n",
    "my_list_of_coins = []\n",
    "\n",
    "for row in file_data:         \n",
    "    my_list_of_coins.append(row.strip())\n",
    "\n",
    "file_data.close()\n",
    "\n",
    "\n",
    "#Printing my coins\n",
    "print(\"My coins:\")\n",
    "for i in range(len(my_list_of_coins)):\n",
    "    print(i+1, \"-\", my_list_of_coins[i])\n",
    "\n",
    "    \n",
    "    \n",
    "\n",
    "line_requests = 'https://api.coinmarketcap.com/v1/ticker/'\n",
    "\n",
    "BTC_price = 1.0\n",
    "\n",
    "while True:\n",
    "    \n",
    "    for one_name in my_list_of_coins:\n",
    "    \n",
    "        line = line_requests + one_name\n",
    "    \n",
    "        try:\n",
    "            r = requests.get(line)\n",
    "        except requests.exceptions.RequestException:\n",
    "            print(\"Error of connection!!!\")\n",
    "            break\n",
    "        \n",
    "        try:\n",
    "            r.json()\n",
    "        except ValueError:\n",
    "            print(\"Error of format JSON\")\n",
    "            break\n",
    "        \n",
    "        for coin in r.json():\n",
    "            if(one_name == 'bitcoin'): BTC_price = float(coin['price_usd'])\n",
    "        \n",
    "            file_out_name = coin['symbol'] + '.dat'\n",
    "            file_out = open(file_out_name, \"a\") \n",
    "        \n",
    "        \n",
    "            file_out.write(str(float(coin['last_updated'])/3600.0) + ' ' + coin['price_usd'] + ' ' + coin['price_btc'] + ' ' + coin['24h_volume_usd'] + ' ' + str(float(coin['24h_volume_usd'])/BTC_price) + ' ' + str(time.ctime(int(coin['last_updated']))) + '\\n')\n",
    "        \n",
    "            file_out.close();\n",
    "\n",
    "time.sleep(300)"
   ]
  },
  {
   "cell_type": "code",
   "execution_count": null,
   "metadata": {},
   "outputs": [],
   "source": []
  }
 ],
 "metadata": {
  "kernelspec": {
   "display_name": "Python 3",
   "language": "python",
   "name": "python3"
  },
  "language_info": {
   "codemirror_mode": {
    "name": "ipython",
    "version": 3
   },
   "file_extension": ".py",
   "mimetype": "text/x-python",
   "name": "python",
   "nbconvert_exporter": "python",
   "pygments_lexer": "ipython3",
   "version": "3.7.1"
  }
 },
 "nbformat": 4,
 "nbformat_minor": 2
}

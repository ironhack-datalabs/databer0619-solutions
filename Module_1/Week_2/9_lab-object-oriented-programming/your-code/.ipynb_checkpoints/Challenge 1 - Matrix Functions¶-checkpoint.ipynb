{
 "cells": [
  {
   "cell_type": "code",
   "execution_count": 7,
   "metadata": {},
   "outputs": [],
   "source": [
    "mat = [[1,4,2], [1,2,3,4,5],[1,2,3]]"
   ]
  },
  {
   "cell_type": "code",
   "execution_count": 2,
   "metadata": {},
   "outputs": [],
   "source": [
    "if not isinstance(mat, list):\n",
    "    print(\"The variable is not a list\")"
   ]
  },
  {
   "cell_type": "code",
   "execution_count": 5,
   "metadata": {},
   "outputs": [],
   "source": [
    "for l in mat: \n",
    "    if not isinstance(l, list):\n",
    "        print(\"the matrix is only one dimensional\")\n",
    " "
   ]
  },
  {
   "cell_type": "code",
   "execution_count": 8,
   "metadata": {},
   "outputs": [],
   "source": [
    "for l in mat: \n",
    "    if not isinstance(l, list):\n",
    "        print(\"the matrix is only one dimensional\")\n",
    "    for i in l:\n",
    "        if isinstance(i, list):\n",
    "            print(\"The matrix is more than two dimensional\")"
   ]
  },
  {
   "cell_type": "code",
   "execution_count": 9,
   "metadata": {},
   "outputs": [],
   "source": [
    "def twodim(mat):\n",
    "    if not isinstance(mat, list):\n",
    "        print(\"The variable is not a list\")\n",
    "        for i in l:\n",
    "            if isinstance(i, list):\n",
    "                print(\"The matrix is more than two dimensional\")\n",
    "    return True"
   ]
  },
  {
   "cell_type": "code",
   "execution_count": 12,
   "metadata": {},
   "outputs": [],
   "source": [
    "def twodim(mat):\n",
    "    if not isinstance(mat, list):\n",
    "            raise ValueError(\"The variable is not a list\")\n",
    "    for l in mat:\n",
    "        if not isinstance(l, list):\n",
    "            raise ValueError(\"The matrix is only one dimensional\")\n",
    "        for i in l:\n",
    "            if isinstance(i, list):\n",
    "                raise ValueError(\"The matrix is more than two dimensional\")\n",
    "    return True"
   ]
  },
  {
   "cell_type": "code",
   "execution_count": null,
   "metadata": {},
   "outputs": [],
   "source": []
  }
 ],
 "metadata": {
  "kernelspec": {
   "display_name": "Python 3",
   "language": "python",
   "name": "python3"
  },
  "language_info": {
   "codemirror_mode": {
    "name": "ipython",
    "version": 3
   },
   "file_extension": ".py",
   "mimetype": "text/x-python",
   "name": "python",
   "nbconvert_exporter": "python",
   "pygments_lexer": "ipython3",
   "version": "3.7.1"
  }
 },
 "nbformat": 4,
 "nbformat_minor": 2
}

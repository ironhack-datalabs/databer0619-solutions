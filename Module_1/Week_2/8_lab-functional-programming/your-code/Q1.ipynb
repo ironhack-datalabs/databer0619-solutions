{
 "cells": [
  {
   "cell_type": "markdown",
   "metadata": {},
   "source": [
    "In the cell below, create a Python function that wraps your previous solution for the Bag of Words lab.\n",
    "\n",
    "Requirements:\n",
    "\n",
    "1. Your function should accept the following parameters:\n",
    "    * `docs` [REQUIRED] - array of document paths.\n",
    "    * `stop_words` [OPTIONAL] - array of stop words. The default value is an empty array.\n",
    "\n",
    "1. Your function should return a Python object that contains the following:\n",
    "    * `bag_of_words` - array of strings of normalized unique words in the corpus.\n",
    "    * `term_freq` - array of the term-frequency vectors."
   ]
  },
  {
   "cell_type": "code",
   "execution_count": 1,
   "metadata": {},
   "outputs": [],
   "source": [
    "# Import required libraries\n",
    "from string import punctuation\n",
    "\n",
    "# Define function\n",
    "def get_bow_from_docs(docs, stop_words=[]):\n",
    "    # In the function, first define the variables you will use such as `corpus`, `bag_of_words`, and `term_freq`.\n",
    "    corpus = []\n",
    "    bag_of_words = []\n",
    "    term_freq = []\n",
    "    \n",
    "    \"\"\"\n",
    "    Loop `docs` and read the content of each doc into a string in `corpus`.\n",
    "    Remember to convert the doc content to lowercases and remove punctuation.\n",
    "    \"\"\"\n",
    "    for doc in docs:\n",
    "        f = open(doc, 'r')\n",
    "        s = f.read()\n",
    "        s = ''.join(c for c in s if c not in punctuation)\n",
    "        corpus.append(s.lower())\n",
    "        f.close()\n",
    "    \n",
    "    \"\"\"\n",
    "    Loop `corpus`. Append the terms in each doc into the `bag_of_words` array. The terms in `bag_of_words` \n",
    "    should be unique which means before adding each term you need to check if it's already added to the array.\n",
    "    In addition, check if each term is in the `stop_words` array. Only append the term to `bag_of_words`\n",
    "    if it is not a stop word.\n",
    "    \"\"\"\n",
    "    for s in corpus:\n",
    "        s = ''.join(c for c in s if c not in punctuation)\n",
    "        terms = s.split()\n",
    "        for term in terms:\n",
    "            if not term in bag_of_words and not term in stop_words:\n",
    "                bag_of_words.append(term)\n",
    "    \n",
    "    \n",
    "    \"\"\"\n",
    "    Loop `corpus` again. For each doc string, count the number of occurrences of each term in `bag_of_words`. \n",
    "    Create an array for each doc's term frequency and append it to `term_freq`.\n",
    "    \"\"\"\n",
    "    for s in corpus:\n",
    "        freq = []\n",
    "        terms = s.split()\n",
    "        for word in bag_of_words:\n",
    "            freq.append(terms.count(word))\n",
    "        term_freq.append(freq)\n",
    "    \n",
    "    # Now return your output as an object\n",
    "    return {\n",
    "        \"bag_of_words\": bag_of_words,\n",
    "        \"term_freq\": term_freq\n",
    "    }\n",
    "    "
   ]
  },
  {
   "cell_type": "markdown",
   "metadata": {},
   "source": [
    "Test your function without stop words. You should see the output like below:\n",
    "\n",
    "```{'bag_of_words': ['ironhack', 'is', 'cool', 'i', 'love', 'am', 'a', 'student', 'at'], 'term_freq': [[1, 1, 1, 0, 0, 0, 0, 0, 0], [1, 0, 0, 1, 1, 0, 0, 0, 0], [1, 0, 0, 1, 0, 1, 1, 1, 1]]}```"
   ]
  },
  {
   "cell_type": "code",
   "execution_count": 2,
   "metadata": {
    "scrolled": true
   },
   "outputs": [
    {
     "name": "stdout",
     "output_type": "stream",
     "text": [
      "{'bag_of_words': ['ironhack', 'is', 'cool', 'i', 'love', 'am', 'a', 'student', 'at'], 'term_freq': [[1, 1, 1, 0, 0, 0, 0, 0, 0], [1, 0, 0, 1, 1, 0, 0, 0, 0], [1, 0, 0, 1, 0, 1, 1, 1, 1]]}\n"
     ]
    }
   ],
   "source": [
    "bow = get_bow_from_docs([\n",
    "    '../../lab-bag-of-words/your-code/doc1.txt', \n",
    "    '../../lab-bag-of-words/your-code/doc2.txt', \n",
    "    '../../lab-bag-of-words/your-code/doc3.txt'])\n",
    "\n",
    "print(bow)"
   ]
  },
  {
   "cell_type": "markdown",
   "metadata": {},
   "source": [
    "If your attempt above is successful, nice work done!\n",
    "\n",
    "Now test your function again with the stop words. In the previous lab we defined the stop words in a large array. In this lab, we'll import the stop words from Scikit-Learn."
   ]
  },
  {
   "cell_type": "code",
   "execution_count": 3,
   "metadata": {},
   "outputs": [
    {
     "name": "stdout",
     "output_type": "stream",
     "text": [
      "frozenset({'himself', 'side', 'in', 'its', 'neither', 'am', 'amoungst', 'moreover', 'is', 'somehow', 'been', 'meanwhile', 'onto', 'out', 'against', 'four', 'at', 'wherever', 'ours', 'now', 'enough', 'de', 'serious', 'interest', 'whom', 'hasnt', 'show', 'thus', 'those', 'whole', 'sometimes', 'due', 'would', 'cannot', 'back', 'once', 'anywhere', 'every', 'part', 'forty', 'empty', 'most', 'sometime', 'him', 'thereby', 'yours', 'i', 'give', 'six', 'anyhow', 'for', 'system', 'this', 'eg', 'therein', 'because', 'whither', 'behind', 'during', 'seemed', 'something', 'next', 'first', 'whereupon', 'which', 'done', 'be', 'cant', 'he', 'thick', 'afterwards', 'amount', 'already', 'how', 'no', 'whether', 'becoming', 'itself', 'before', 'someone', 'an', 'beside', 'mostly', 'nothing', 'of', 'too', 'former', 'namely', 'couldnt', 'one', 'however', 'everything', 'move', 'through', 'was', 'fill', 'ltd', 'both', 'his', 'seem', 'full', 'even', 'until', 'we', 'over', 'each', 'always', 'within', 'although', 'via', 'though', 'last', 'same', 'why', 'whose', 'third', 'elsewhere', 'whereas', 'hundred', 'herein', 'others', 'throughout', 'top', 'else', 'towards', 'became', 'their', 'do', 'or', 'toward', 'fifty', 'un', 'latterly', 'together', 'yet', 'off', 'fifteen', 'thereupon', 'upon', 'bottom', 'per', 'inc', 'everyone', 'besides', 'if', 'the', 'call', 'hereupon', 'many', 'could', 'amongst', 'other', 'into', 'eight', 'to', 'whoever', 'she', 'a', 'much', 'name', 'often', 'seeming', 'about', 'thin', 'three', 'by', 'since', 'only', 'them', 'have', 'there', 'either', 'hereafter', 'can', 'myself', 'it', 'detail', 'hers', 'down', 'should', 'above', 'from', 'eleven', 'among', 'alone', 'after', 'fire', 'two', 'five', 'go', 'latter', 'noone', 'everywhere', 'had', 'own', 'below', 'anyway', 'mine', 'ever', 'twelve', 'perhaps', 'keep', 'and', 'around', 'also', 'beforehand', 'wherein', 'cry', 'co', 'as', 'seems', 'indeed', 'sincere', 'ie', 'whenever', 'get', 'nobody', 'thereafter', 'whatever', 'nine', 'when', 'less', 're', 'who', 'twenty', 'under', 'rather', 'us', 'therefore', 'some', 'found', 'along', 'again', 'our', 'least', 'front', 'that', 'still', 'more', 'being', 'hereby', 'might', 'bill', 'all', 'whereby', 'con', 'with', 'not', 'beyond', 'well', 'across', 'none', 'except', 'but', 'they', 'mill', 'between', 'than', 'were', 'becomes', 'somewhere', 'without', 'then', 'any', 'so', 'few', 'see', 'nowhere', 'anything', 'ten', 'another', 'become', 'put', 'anyone', 'etc', 'otherwise', 'whereafter', 'find', 'these', 'further', 'such', 'nor', 'almost', 'what', 'nevertheless', 'on', 'made', 'me', 'themselves', 'formerly', 'her', 'here', 'yourself', 'take', 'your', 'you', 'herself', 'where', 'my', 'describe', 'up', 'thru', 'ourselves', 'has', 'hence', 'never', 'whence', 'will', 'very', 'while', 'thence', 'several', 'sixty', 'yourselves', 'please', 'must', 'may', 'are'})\n"
     ]
    }
   ],
   "source": [
    "from sklearn.feature_extraction import stop_words\n",
    "print(stop_words.ENGLISH_STOP_WORDS)"
   ]
  },
  {
   "cell_type": "markdown",
   "metadata": {},
   "source": [
    "You should have seen a large list of words that looks like:\n",
    "\n",
    "```frozenset({'across', 'mine', 'cannot', ...})```\n",
    "\n",
    "`frozenset` is a type of Python object that is immutable. In this lab you can use it just like an array without conversion."
   ]
  },
  {
   "cell_type": "markdown",
   "metadata": {},
   "source": [
    "Next, test your function with supplying `stop_words.ENGLISH_STOP_WORDS` as the second parameter."
   ]
  },
  {
   "cell_type": "code",
   "execution_count": 4,
   "metadata": {},
   "outputs": [
    {
     "name": "stdout",
     "output_type": "stream",
     "text": [
      "{'bag_of_words': ['ironhack', 'cool', 'love', 'student'], 'term_freq': [[1, 1, 0, 0], [1, 0, 1, 0], [1, 0, 0, 1]]}\n"
     ]
    }
   ],
   "source": [
    "bow = get_bow_from_docs([\n",
    "    '../../lab-bag-of-words/your-code/doc1.txt', \n",
    "    '../../lab-bag-of-words/your-code/doc2.txt', \n",
    "    '../../lab-bag-of-words/your-code/doc3.txt'],\n",
    "    stop_words.ENGLISH_STOP_WORDS\n",
    ")\n",
    "\n",
    "print(bow)"
   ]
  },
  {
   "cell_type": "markdown",
   "metadata": {},
   "source": [
    "You should have seen:\n",
    "\n",
    "```{'bag_of_words': ['ironhack', 'cool', 'love', 'student'], 'term_freq': [[1, 1, 0, 0], [1, 0, 1, 0], [1, 0, 0, 1]]}```"
   ]
  },
  {
   "cell_type": "code",
   "execution_count": null,
   "metadata": {},
   "outputs": [],
   "source": []
  }
 ],
 "metadata": {
  "kernelspec": {
   "display_name": "Python 3",
   "language": "python",
   "name": "python3"
  },
  "language_info": {
   "codemirror_mode": {
    "name": "ipython",
    "version": 3
   },
   "file_extension": ".py",
   "mimetype": "text/x-python",
   "name": "python",
   "nbconvert_exporter": "python",
   "pygments_lexer": "ipython3",
   "version": "3.7.1"
  }
 },
 "nbformat": 4,
 "nbformat_minor": 2
}
